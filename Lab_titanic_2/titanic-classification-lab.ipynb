{
 "cells": [
  {
   "cell_type": "code",
   "execution_count": 1,
   "metadata": {},
   "outputs": [],
   "source": [
    "import pandas as pd"
   ]
  },
  {
   "cell_type": "markdown",
   "metadata": {},
   "source": [
    "# Read the processed titanic dataframe you've created last class\n",
    "\n",
    "Store it in a dataframe called `titanic`"
   ]
  },
  {
   "cell_type": "code",
   "execution_count": 9,
   "metadata": {},
   "outputs": [
    {
     "output_type": "execute_result",
     "data": {
      "text/plain": [
       "     Pclass   Age  SibSp  Parch      Fare  Sex_male  Embarked_Q  Embarked_S  \\\n",
       "0         2  27.0      0      0   13.0000         1           0           1   \n",
       "1         1  51.0      0      1   61.3792         1           0           0   \n",
       "2         1  23.0      1      0  113.2750         0           0           0   \n",
       "3         3  28.5      0      0    7.2292         1           0           0   \n",
       "4         3  38.0      1      5   31.3875         0           0           1   \n",
       "..      ...   ...    ...    ...       ...       ...         ...         ...   \n",
       "529       3  34.0      0      0    8.0500         1           0           1   \n",
       "530       1  25.0      1      0   55.4417         1           0           0   \n",
       "531       1  21.0      0      1   77.2875         1           0           1   \n",
       "532       3  19.0      0      0    8.0500         1           0           1   \n",
       "533       1  18.0      2      2  262.3750         0           0           0   \n",
       "\n",
       "     y_train  \n",
       "0          0  \n",
       "1          0  \n",
       "2          1  \n",
       "3          0  \n",
       "4          1  \n",
       "..       ...  \n",
       "529        0  \n",
       "530        1  \n",
       "531        0  \n",
       "532        0  \n",
       "533        1  \n",
       "\n",
       "[534 rows x 9 columns]"
      ],
      "text/html": "<div>\n<style scoped>\n    .dataframe tbody tr th:only-of-type {\n        vertical-align: middle;\n    }\n\n    .dataframe tbody tr th {\n        vertical-align: top;\n    }\n\n    .dataframe thead th {\n        text-align: right;\n    }\n</style>\n<table border=\"1\" class=\"dataframe\">\n  <thead>\n    <tr style=\"text-align: right;\">\n      <th></th>\n      <th>Pclass</th>\n      <th>Age</th>\n      <th>SibSp</th>\n      <th>Parch</th>\n      <th>Fare</th>\n      <th>Sex_male</th>\n      <th>Embarked_Q</th>\n      <th>Embarked_S</th>\n      <th>y_train</th>\n    </tr>\n  </thead>\n  <tbody>\n    <tr>\n      <th>0</th>\n      <td>2</td>\n      <td>27.0</td>\n      <td>0</td>\n      <td>0</td>\n      <td>13.0000</td>\n      <td>1</td>\n      <td>0</td>\n      <td>1</td>\n      <td>0</td>\n    </tr>\n    <tr>\n      <th>1</th>\n      <td>1</td>\n      <td>51.0</td>\n      <td>0</td>\n      <td>1</td>\n      <td>61.3792</td>\n      <td>1</td>\n      <td>0</td>\n      <td>0</td>\n      <td>0</td>\n    </tr>\n    <tr>\n      <th>2</th>\n      <td>1</td>\n      <td>23.0</td>\n      <td>1</td>\n      <td>0</td>\n      <td>113.2750</td>\n      <td>0</td>\n      <td>0</td>\n      <td>0</td>\n      <td>1</td>\n    </tr>\n    <tr>\n      <th>3</th>\n      <td>3</td>\n      <td>28.5</td>\n      <td>0</td>\n      <td>0</td>\n      <td>7.2292</td>\n      <td>1</td>\n      <td>0</td>\n      <td>0</td>\n      <td>0</td>\n    </tr>\n    <tr>\n      <th>4</th>\n      <td>3</td>\n      <td>38.0</td>\n      <td>1</td>\n      <td>5</td>\n      <td>31.3875</td>\n      <td>0</td>\n      <td>0</td>\n      <td>1</td>\n      <td>1</td>\n    </tr>\n    <tr>\n      <th>...</th>\n      <td>...</td>\n      <td>...</td>\n      <td>...</td>\n      <td>...</td>\n      <td>...</td>\n      <td>...</td>\n      <td>...</td>\n      <td>...</td>\n      <td>...</td>\n    </tr>\n    <tr>\n      <th>529</th>\n      <td>3</td>\n      <td>34.0</td>\n      <td>0</td>\n      <td>0</td>\n      <td>8.0500</td>\n      <td>1</td>\n      <td>0</td>\n      <td>1</td>\n      <td>0</td>\n    </tr>\n    <tr>\n      <th>530</th>\n      <td>1</td>\n      <td>25.0</td>\n      <td>1</td>\n      <td>0</td>\n      <td>55.4417</td>\n      <td>1</td>\n      <td>0</td>\n      <td>0</td>\n      <td>1</td>\n    </tr>\n    <tr>\n      <th>531</th>\n      <td>1</td>\n      <td>21.0</td>\n      <td>0</td>\n      <td>1</td>\n      <td>77.2875</td>\n      <td>1</td>\n      <td>0</td>\n      <td>1</td>\n      <td>0</td>\n    </tr>\n    <tr>\n      <th>532</th>\n      <td>3</td>\n      <td>19.0</td>\n      <td>0</td>\n      <td>0</td>\n      <td>8.0500</td>\n      <td>1</td>\n      <td>0</td>\n      <td>1</td>\n      <td>0</td>\n    </tr>\n    <tr>\n      <th>533</th>\n      <td>1</td>\n      <td>18.0</td>\n      <td>2</td>\n      <td>2</td>\n      <td>262.3750</td>\n      <td>0</td>\n      <td>0</td>\n      <td>0</td>\n      <td>1</td>\n    </tr>\n  </tbody>\n</table>\n<p>534 rows × 9 columns</p>\n</div>"
     },
     "metadata": {},
     "execution_count": 9
    }
   ],
   "source": [
    "titanic_train = pd.DataFrame(pd.read_csv('../Lab_titanic/titanic_train.csv'))\n",
    "titanic_test = pd.DataFrame(pd.read_csv('../Lab_titanic/titanic_test.csv'))\n",
    "titanic_train"
   ]
  },
  {
   "cell_type": "markdown",
   "metadata": {},
   "source": [
    "# Let's start simple\n",
    "\n",
    "You will select two variables to create the predictive variables for your problem - store `['Sex','Age']` in a variable called `X`. \n",
    "\n",
    "Also store the variable `'Survived'` into a pandas series called `y`."
   ]
  },
  {
   "cell_type": "code",
   "execution_count": 17,
   "metadata": {},
   "outputs": [],
   "source": [
    "X_train = titanic_train.loc[:,titanic_train.columns != 'y_train']\n",
    "y_train = titanic_train['y_train']\n",
    "X_test = titanic_test.loc[:,titanic_test.columns != 'y_test']\n",
    "y_test = titanic_test['y_test']"
   ]
  },
  {
   "cell_type": "markdown",
   "metadata": {},
   "source": [
    "# Using the `sklearn.model_selection` module, separate your dataset into train and test datasets. \n",
    "\n",
    "In fact, what you are effectively doing is hiding some part of your data to analyse your scores afterwards. As you are handling with a small dataset, separate 20% of your dataset to be your test data."
   ]
  },
  {
   "cell_type": "code",
   "execution_count": null,
   "metadata": {},
   "outputs": [],
   "source": []
  },
  {
   "cell_type": "markdown",
   "metadata": {},
   "source": [
    "### Logistic regression for classification\n",
    "\n",
    "https://scikit-learn.org/stable/modules/generated/sklearn.linear_model.LogisticRegression.html"
   ]
  },
  {
   "cell_type": "markdown",
   "metadata": {},
   "source": [
    "# Use the LogisticRegression classifier to train your model on your train set."
   ]
  },
  {
   "cell_type": "code",
   "execution_count": 16,
   "metadata": {},
   "outputs": [
    {
     "output_type": "execute_result",
     "data": {
      "text/plain": [
       "LogisticRegression(max_iter=100000)"
      ]
     },
     "metadata": {},
     "execution_count": 16
    }
   ],
   "source": [
    "from sklearn.linear_model import LogisticRegression\n",
    "model = LogisticRegression(max_iter=100000)\n",
    "model.fit(X_train,y_train)"
   ]
  },
  {
   "cell_type": "markdown",
   "metadata": {},
   "source": [
    "# Use the `.predict()` method of your model to generate a prediction for your test dataset. \n",
    "\n",
    "Create a variable called `y_pred` to put the results of the model. Try to understand what exactly the `.predict()` method is doing. \n",
    "\n",
    "_hint: Also try to understand what exactly the method `.predict__proba()` does._"
   ]
  },
  {
   "cell_type": "code",
   "execution_count": 41,
   "metadata": {},
   "outputs": [],
   "source": [
    "y_pred = model.predict(X_test)\n",
    "y_pred_train = model.predict(X_train)"
   ]
  },
  {
   "cell_type": "markdown",
   "metadata": {},
   "source": [
    "# Analysing the results obtained."
   ]
  },
  {
   "cell_type": "markdown",
   "metadata": {},
   "source": [
    "Print the accuracy score of the model. Is accuracy a good measure for this problem? Why? Remember to check how many event occurrences you have on your variable y. Is the dataset balanced in your opinion?"
   ]
  },
  {
   "cell_type": "markdown",
   "metadata": {},
   "source": [
    "### Confusion matrix\n",
    "\n",
    "Print the confusion matrix for the results obtained.\n",
    "\n",
    "_hint: You can use the `pd.crosstab()` on your `y__test` variable and your predicted results or use the sklearn.metrics - confusion_matrix method_ "
   ]
  },
  {
   "cell_type": "code",
   "execution_count": 21,
   "metadata": {},
   "outputs": [
    {
     "output_type": "execute_result",
     "data": {
      "text/plain": [
       "array([[70, 23],\n",
       "       [27, 58]], dtype=int64)"
      ]
     },
     "metadata": {},
     "execution_count": 21
    }
   ],
   "source": [
    "from sklearn.metrics import  confusion_matrix\n",
    "confusion_matrix(y_test,y_pred)"
   ]
  },
  {
   "cell_type": "markdown",
   "metadata": {},
   "source": [
    "# Using pd.crosstab()\n",
    "Store your predicted value and your y_test into a dataframe called pred_results."
   ]
  },
  {
   "cell_type": "code",
   "execution_count": 22,
   "metadata": {},
   "outputs": [],
   "source": [
    "pred_results = pd.DataFrame({'y_test': y_test,\n",
    "                             'y_pred': y_pred})"
   ]
  },
  {
   "cell_type": "markdown",
   "metadata": {},
   "source": [
    "# Now perform a pd.crosstab on the y_test column and the y_pred column\n",
    "\n",
    "_hint: Store it in a variable called titanic_\\__crosstab_"
   ]
  },
  {
   "cell_type": "code",
   "execution_count": 24,
   "metadata": {},
   "outputs": [
    {
     "output_type": "execute_result",
     "data": {
      "text/plain": [
       "col_0    0   1\n",
       "y_test        \n",
       "0       70  23\n",
       "1       27  58"
      ],
      "text/html": "<div>\n<style scoped>\n    .dataframe tbody tr th:only-of-type {\n        vertical-align: middle;\n    }\n\n    .dataframe tbody tr th {\n        vertical-align: top;\n    }\n\n    .dataframe thead th {\n        text-align: right;\n    }\n</style>\n<table border=\"1\" class=\"dataframe\">\n  <thead>\n    <tr style=\"text-align: right;\">\n      <th>col_0</th>\n      <th>0</th>\n      <th>1</th>\n    </tr>\n    <tr>\n      <th>y_test</th>\n      <th></th>\n      <th></th>\n    </tr>\n  </thead>\n  <tbody>\n    <tr>\n      <th>0</th>\n      <td>70</td>\n      <td>23</td>\n    </tr>\n    <tr>\n      <th>1</th>\n      <td>27</td>\n      <td>58</td>\n    </tr>\n  </tbody>\n</table>\n</div>"
     },
     "metadata": {},
     "execution_count": 24
    }
   ],
   "source": [
    "titanic_crosstab = pd.crosstab(y_test,y_pred)\n",
    "titanic_crosstab"
   ]
  },
  {
   "cell_type": "markdown",
   "metadata": {},
   "source": [
    "# Now use the confusion_matrix method from sklearn.metrics to obtain the same results"
   ]
  },
  {
   "cell_type": "code",
   "execution_count": 25,
   "metadata": {},
   "outputs": [
    {
     "output_type": "execute_result",
     "data": {
      "text/plain": [
       "array([[70, 23],\n",
       "       [27, 58]], dtype=int64)"
      ]
     },
     "metadata": {},
     "execution_count": 25
    }
   ],
   "source": [
    "confusion_matrix(y_test,y_pred)"
   ]
  },
  {
   "cell_type": "markdown",
   "metadata": {},
   "source": [
    "### Precision-recall scores\n",
    "\n",
    "https://scikit-learn.org/stable/modules/generated/sklearn.metrics.precision_score.html\n",
    "https://scikit-learn.org/stable/modules/generated/sklearn.metrics.recall_score.html\n",
    "\n",
    "# Calculate the precision and recall scores for the test set. "
   ]
  },
  {
   "cell_type": "code",
   "execution_count": 43,
   "metadata": {},
   "outputs": [],
   "source": [
    "# Precision = TP/(TP+FP)\n",
    "# Recall = TP/(TP+FN)\n",
    "from sklearn import metrics\n",
    "precision_test = metrics.precision_score(y_test,y_pred)\n",
    "recall_test = metrics.recall_score(y_test,y_pred)\n",
    "accuracy_test = metrics.accuracy_score(y_test,y_pred)\n",
    "#precision = titanic_crosstab.loc[1,1]/(titanic_crosstab.loc[1,1]+titanic_crosstab.loc[0,1])\n",
    "#recall = titanic_crosstab.loc[1,1]/(titanic_crosstab.loc[1,1]+titanic_crosstab.loc[1,0])\n",
    "#pre = precision_score()\n",
    "precision_train = metrics.precision_score(y_train,y_pred_train)\n",
    "recall_train = metrics.recall_score(y_train,y_pred_train)\n",
    "accuracy_train = metrics.accuracy_score(y_train,y_pred_train)"
   ]
  },
  {
   "cell_type": "code",
   "execution_count": 44,
   "metadata": {},
   "outputs": [],
   "source": [
    "mts_test = (precision_test, recall_test, accuracy_test)\n",
    "mts_train = (precision_train,recall_train,accuracy_train)"
   ]
  },
  {
   "cell_type": "markdown",
   "metadata": {},
   "source": [
    "# Compare accuracy, recall and precision for train and test sets. What do you see?"
   ]
  },
  {
   "cell_type": "code",
   "execution_count": 45,
   "metadata": {},
   "outputs": [
    {
     "output_type": "stream",
     "name": "stdout",
     "text": [
      "Precision, recall and accuracy for test: (0.7160493827160493, 0.6823529411764706, 0.7191011235955056)\nPrecision, recall and accuracy for train: (0.7837837837837838, 0.7142857142857143, 0.8164794007490637)\n"
     ]
    }
   ],
   "source": [
    "print('Precision, recall and accuracy for test:',mts_test)\n",
    "print('Precision, recall and accuracy for train:',mts_train)"
   ]
  },
  {
   "cell_type": "markdown",
   "metadata": {},
   "source": [
    "# Identify the number of :\n",
    "1. TRUE POSITIVES\n",
    "2. TRUE NEGATIVES\n",
    "3. FALSE POSITIVES\n",
    "4. FALSE NEGATIVES\n",
    "\n",
    "_hint: Now it's time to use that variable titanic_\\__crosstab you created before_"
   ]
  },
  {
   "cell_type": "code",
   "execution_count": 46,
   "metadata": {},
   "outputs": [
    {
     "output_type": "execute_result",
     "data": {
      "text/plain": [
       "col_0    0   1\n",
       "y_test        \n",
       "0       70  23\n",
       "1       27  58"
      ],
      "text/html": "<div>\n<style scoped>\n    .dataframe tbody tr th:only-of-type {\n        vertical-align: middle;\n    }\n\n    .dataframe tbody tr th {\n        vertical-align: top;\n    }\n\n    .dataframe thead th {\n        text-align: right;\n    }\n</style>\n<table border=\"1\" class=\"dataframe\">\n  <thead>\n    <tr style=\"text-align: right;\">\n      <th>col_0</th>\n      <th>0</th>\n      <th>1</th>\n    </tr>\n    <tr>\n      <th>y_test</th>\n      <th></th>\n      <th></th>\n    </tr>\n  </thead>\n  <tbody>\n    <tr>\n      <th>0</th>\n      <td>70</td>\n      <td>23</td>\n    </tr>\n    <tr>\n      <th>1</th>\n      <td>27</td>\n      <td>58</td>\n    </tr>\n  </tbody>\n</table>\n</div>"
     },
     "metadata": {},
     "execution_count": 46
    }
   ],
   "source": [
    "titanic_crosstab"
   ]
  },
  {
   "cell_type": "code",
   "execution_count": null,
   "metadata": {},
   "outputs": [],
   "source": [
    "'''\n",
    "1. TRUE POSITIVES: 58\n",
    "2. TRUE NEGATIVES: 70\n",
    "3. FALSE POSITIVES: 23\n",
    "4. FALSE NEGATIVES: 27\n",
    "'''"
   ]
  },
  {
   "cell_type": "markdown",
   "metadata": {},
   "source": [
    "# Use the TRUE POSITIVE AND FALSE POSITIVE to calculate the precision"
   ]
  },
  {
   "cell_type": "code",
   "execution_count": 47,
   "metadata": {},
   "outputs": [],
   "source": [
    "# Precision = TP/(TP+FP)\n",
    "precision = titanic_crosstab.loc[1,1]/(titanic_crosstab.loc[1,1]+titanic_crosstab.loc[0,1])"
   ]
  },
  {
   "cell_type": "markdown",
   "metadata": {},
   "source": [
    "Explain with your own words the meaning of the precision score."
   ]
  },
  {
   "cell_type": "code",
   "execution_count": null,
   "metadata": {},
   "outputs": [],
   "source": [
    "# Precision is how much the model predicts correctly a positive instance\n",
    "# So the higher the precision, the number"
   ]
  },
  {
   "cell_type": "markdown",
   "metadata": {},
   "source": [
    "# Use the TRUE POSITIVE AND FALSE NEGATIVE to calculate the recall"
   ]
  },
  {
   "cell_type": "code",
   "execution_count": 50,
   "metadata": {},
   "outputs": [
    {
     "output_type": "execute_result",
     "data": {
      "text/plain": [
       "0.6823529411764706"
      ]
     },
     "metadata": {},
     "execution_count": 50
    }
   ],
   "source": [
    "# Recall = TP/(TP+FN)\n",
    "recall = titanic_crosstab.loc[1,1]/(titanic_crosstab.loc[1,1]+titanic_crosstab.loc[1,0])\n",
    "recall"
   ]
  },
  {
   "cell_type": "markdown",
   "metadata": {},
   "source": [
    "Explain with your own words the meaning of the recall score."
   ]
  },
  {
   "cell_type": "code",
   "execution_count": null,
   "metadata": {},
   "outputs": [],
   "source": []
  },
  {
   "cell_type": "code",
   "execution_count": null,
   "metadata": {},
   "outputs": [],
   "source": []
  },
  {
   "cell_type": "markdown",
   "metadata": {},
   "source": [
    "# Non-linear Models - Trees"
   ]
  },
  {
   "cell_type": "markdown",
   "metadata": {},
   "source": [
    "# Use the following function to test the results for different models. \n",
    "\n",
    "You'll be able to call this function like this, for example:\n",
    "\n",
    "`logistic_regression = score_model(X, y, LogisticRegression())`"
   ]
  },
  {
   "cell_type": "code",
   "execution_count": 23,
   "metadata": {},
   "outputs": [],
   "source": [
    "def score_model(X, y, classifier):\n",
    "    import logging\n",
    "    from sklearn.metrics import accuracy_score, precision_score, recall_score, roc_auc_score\n",
    "    \n",
    "    logging.basicConfig(level=logging.INFO)\n",
    "    x_train, x_test, y_train, y_test = train_test_split(X, y, test_size=0.2)\n",
    "    model = classifier\n",
    "    model.fit(x_train, y_train)\n",
    "    y_pred = model.predict(x_test)\n",
    "    \n",
    "    logging.info('Test Results')\n",
    "    logging.info(f'accuracy: {accuracy_score(y_test, y_pred):.2f}')\n",
    "    logging.info(f'recall: {recall_score(y_test, y_pred):.2f}')\n",
    "    logging.info(f'precision: {precision_score(y_test, y_pred):.2f}')\n",
    "    logging.info(f'ROC-AUC: {roc_auc_score(y_test, y_pred):.2f}\\n')\n",
    "    \n",
    "    logging.info('Train Results')\n",
    "    logging.info(f'accuracy: {accuracy_score(y_train, model.predict(x_train)):.2f}')\n",
    "    logging.info(f'recall: {recall_score(y_train, model.predict(x_train)):.2f}')\n",
    "    logging.info(f'precision: {precision_score(y_train, model.predict(x_train)):.2f}')\n",
    "    logging.info(f'ROC-AUC: {roc_auc_score(y_train, model.predict(x_train)):.2f}\\n')\n",
    "    \n",
    "    \n",
    "    logging.info(f'\\n{confusion_matrix(y_test, y_pred)}')\n",
    "    \n",
    "    return model"
   ]
  },
  {
   "cell_type": "markdown",
   "metadata": {},
   "source": [
    "# Use this function to create a DecisionTreeClassifier model. Store the model on a variable called `tree`.\n",
    "\n",
    "Make sure you understand what the function `score_model` does. Use the default DecisionTreeClassifier for now."
   ]
  },
  {
   "cell_type": "code",
   "execution_count": null,
   "metadata": {},
   "outputs": [],
   "source": []
  },
  {
   "cell_type": "markdown",
   "metadata": {},
   "source": [
    "# Plotting trees\n",
    "\n",
    "Use the the method `plot_tree()` from `sklearn.tree` module to print the tree on your notebook. Play with arguments like `feature_names`, `class_names`, `proportion`, `filled`..."
   ]
  },
  {
   "cell_type": "code",
   "execution_count": null,
   "metadata": {},
   "outputs": [],
   "source": []
  },
  {
   "cell_type": "markdown",
   "metadata": {},
   "source": [
    "What do you think happened? Did you expect such a big tree?"
   ]
  },
  {
   "cell_type": "code",
   "execution_count": null,
   "metadata": {},
   "outputs": [],
   "source": [
    "# !pip install mlxtend --user"
   ]
  },
  {
   "cell_type": "markdown",
   "metadata": {},
   "source": [
    "# Using the `mlxtend.plotting` module, plot the decision boundaries for the Tree classification algorithm.\n",
    "\n",
    "_hint: you have to convert the dataframes to np.array before plotting in this package_\n",
    "\n",
    "Note: Include the labels on the plot using: \n",
    "\n",
    "`plt.xlabel(x_test.columns[0])`\n",
    "\n",
    "`plt.ylabel(x_test.columns[1]);`"
   ]
  },
  {
   "cell_type": "code",
   "execution_count": null,
   "metadata": {},
   "outputs": [],
   "source": [
    "import numpy as np\n",
    "from mlxtend.plotting import plot_decision_regions\n",
    "plot_decision_regions(np.array(x_test), np.array(y_test), clf=tree)\n"
   ]
  },
  {
   "cell_type": "markdown",
   "metadata": {},
   "source": [
    "What do you think these wiggles represent?"
   ]
  },
  {
   "cell_type": "markdown",
   "metadata": {},
   "source": [
    "# Now do the same for the Logistic Regression"
   ]
  },
  {
   "cell_type": "code",
   "execution_count": null,
   "metadata": {},
   "outputs": [],
   "source": [
    "from mlxtend.plotting import plot_decision_regions\n",
    "plot_decision_regions(np.array(x_test), np.array(y_test), clf=logistic_model, )\n",
    "plt.xlabel(x_test.columns[0])\n",
    "plt.ylabel(x_test.columns[1]);"
   ]
  },
  {
   "cell_type": "markdown",
   "metadata": {},
   "source": [
    "What differences do you observe from them? The variable Age is important for the logistic regression? For different values of Age, how is the decision boundary affected?"
   ]
  },
  {
   "cell_type": "markdown",
   "metadata": {},
   "source": [
    "# Let's fix the tree algorithm"
   ]
  },
  {
   "cell_type": "markdown",
   "metadata": {},
   "source": [
    "As you observed, an overfit occurred when using the default values of the DecisionTreeClassifier. Lesson is: **NEVER USE THOSE**. Let's fix it by using a parameter called `max_depth` for the DecisionTreeClassifier()."
   ]
  },
  {
   "cell_type": "markdown",
   "metadata": {},
   "source": [
    "## Play with the max_depth parameter to see the changes in the results."
   ]
  },
  {
   "cell_type": "code",
   "execution_count": null,
   "metadata": {},
   "outputs": [],
   "source": [
    "new_tree = score_model(X, y, DecisionTreeClassifier(max_depth=3))"
   ]
  },
  {
   "cell_type": "markdown",
   "metadata": {},
   "source": [
    "# Plot the tree again"
   ]
  },
  {
   "cell_type": "code",
   "execution_count": null,
   "metadata": {},
   "outputs": [],
   "source": []
  },
  {
   "cell_type": "markdown",
   "metadata": {},
   "source": [
    "# Plot the decision region again "
   ]
  },
  {
   "cell_type": "code",
   "execution_count": 36,
   "metadata": {},
   "outputs": [
    {
     "data": {
      "image/png": "[encoded data removed]",
      "text/plain": [
       "<Figure size 432x288 with 1 Axes>"
      ]
     },
     "metadata": {
      "needs_background": "light"
     },
     "output_type": "display_data"
    }
   ],
   "source": [
    "# ...\n",
    "plt.xlabel(x_test.columns[0])\n",
    "plt.ylabel(x_test.columns[1]);"
   ]
  },
  {
   "cell_type": "markdown",
   "metadata": {},
   "source": [
    "# It's time to have fun. Let's use more variables. \n",
    "\n",
    "Now have fun plugging in more variables, changing parameters and checking how it affects the results."
   ]
  },
  {
   "cell_type": "code",
   "execution_count": 32,
   "metadata": {},
   "outputs": [],
   "source": [
    "variables_list = ['Sex','Age','Fare']\n",
    "X = titanic_df[variables_list]\n",
    "\n",
    "# score_model(X, y, LogisticRegression())\n",
    "# score_model(X, y, DecisionTreeClassifier(max_depth=5))\n",
    "\n",
    "\n",
    "# You may print the tree when using more than 2 variables to understand its results, \n",
    "# but the decision boundary will not be able to be seen."
   ]
  },
  {
   "cell_type": "code",
   "execution_count": null,
   "metadata": {},
   "outputs": [],
   "source": []
  }
 ],
 "metadata": {
  "kernelspec": {
   "name": "python394jvsc74a57bd06dadf3d67a9f61ca3644430f08819e32fec6fa70db69a7250c8697e177b14df7",
   "display_name": "Python 3.9.4 64-bit"
  },
  "language_info": {
   "codemirror_mode": {
    "name": "ipython",
    "version": 3
   },
   "file_extension": ".py",
   "mimetype": "text/x-python",
   "name": "python",
   "nbconvert_exporter": "python",
   "pygments_lexer": "ipython3",
   "version": "3.9.4"
  },
  "toc": {
   "base_numbering": 1,
   "nav_menu": {},
   "number_sections": true,
   "sideBar": true,
   "skip_h1_title": false,
   "title_cell": "Table of Contents",
   "title_sidebar": "Contents",
   "toc_cell": false,
   "toc_position": {},
   "toc_section_display": true,
   "toc_window_display": false
  },
  "varInspector": {
   "cols": {
    "lenName": 16,
    "lenType": 16,
    "lenVar": 40
   },
   "kernels_config": {
    "python": {
     "delete_cmd_postfix": "",
     "delete_cmd_prefix": "del ",
     "library": "var_list.py",
     "varRefreshCmd": "print(var_dic_list())"
    },
    "r": {
     "delete_cmd_postfix": ") ",
     "delete_cmd_prefix": "rm(",
     "library": "var_list.r",
     "varRefreshCmd": "cat(var_dic_list()) "
    }
   },
   "types_to_exclude": [
    "module",
    "function",
    "builtin_function_or_method",
    "instance",
    "_Feature"
   ],
   "window_display": false
  },
  "metadata": {
   "interpreter": {
    "hash": "6dadf3d67a9f61ca3644430f08819e32fec6fa70db69a7250c8697e177b14df7"
   }
  }
 },
 "nbformat": 4,
 "nbformat_minor": 2
}